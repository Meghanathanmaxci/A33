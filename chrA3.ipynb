{
 "cells": [
  {
   "cell_type": "markdown",
   "id": "d00eb64c",
   "metadata": {},
   "source": [
    "# WPP function that accepts a string and calculate the number of upper case and lower case letters.\n",
    "# Sample string :'The quick Brow Fox'\n",
    "# Expected output:|\n",
    "\n",
    " #              No. of upper case characters:3\n",
    "  #             No. of lower case characters: 12"
   ]
  },
  {
   "cell_type": "code",
   "execution_count": 2,
   "id": "5ca46a7a",
   "metadata": {},
   "outputs": [
    {
     "name": "stdout",
     "output_type": "stream",
     "text": [
      "Enter the string :  The quick Brow Fox\n",
      "no of uppercase letters :  3\n",
      "no of uppercase letters :  12\n"
     ]
    }
   ],
   "source": [
    "t1= 0\n",
    "t2 = 0\n",
    "sen =input('Enter the string :  ')\n",
    "for i in sen:\n",
    "    if i >=chr(65) and i<=chr(90):\n",
    "        m = len(str(i))\n",
    "        t1 = t1 + m\n",
    "    elif i>=chr(97) and i<=chr(122):\n",
    "        n = (len(str(i)))\n",
    "        t2 = t2 + n\n",
    "print('no of uppercase letters : ',t1)\n",
    "print('no of uppercase letters : ',t2)"
   ]
  },
  {
   "cell_type": "code",
   "execution_count": null,
   "id": "4e28a786",
   "metadata": {},
   "outputs": [],
   "source": []
  }
 ],
 "metadata": {
  "kernelspec": {
   "display_name": "Python 3 (ipykernel)",
   "language": "python",
   "name": "python3"
  },
  "language_info": {
   "codemirror_mode": {
    "name": "ipython",
    "version": 3
   },
   "file_extension": ".py",
   "mimetype": "text/x-python",
   "name": "python",
   "nbconvert_exporter": "python",
   "pygments_lexer": "ipython3",
   "version": "3.10.0"
  }
 },
 "nbformat": 4,
 "nbformat_minor": 5
}
